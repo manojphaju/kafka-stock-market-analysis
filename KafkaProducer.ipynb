{
 "cells": [
  {
   "cell_type": "code",
   "execution_count": null,
   "id": "912979e4",
   "metadata": {},
   "outputs": [],
   "source": [
    "pip install kafka-python"
   ]
  },
  {
   "cell_type": "code",
   "execution_count": null,
   "id": "50944054",
   "metadata": {},
   "outputs": [],
   "source": [
    "import pandas as pd\n",
    "from kafka import KafkaProducer\n",
    "from time import sleep\n",
    "from json import dumps\n",
    "import json"
   ]
  },
  {
   "cell_type": "code",
   "execution_count": null,
   "id": "66ad5acd",
   "metadata": {},
   "outputs": [],
   "source": [
    "# ip from the ec2 instance\n",
    "producer = KafkaProducer(bootstrap_servers=['3.80.93.162:9092'],\n",
    "                        value_serializer=lambda x:\n",
    "                        dumps(x).encode('utf-8'))"
   ]
  },
  {
   "cell_type": "code",
   "execution_count": null,
   "id": "1e1b62b5",
   "metadata": {},
   "outputs": [],
   "source": [
    "producer.send('demo_test', value=\"{'surname':'phaju'}\")"
   ]
  },
  {
   "cell_type": "code",
   "execution_count": null,
   "id": "18b4412a",
   "metadata": {},
   "outputs": [],
   "source": [
    "df=pd.read_csv('indexProcessed.csv')"
   ]
  },
  {
   "cell_type": "code",
   "execution_count": null,
   "id": "80f0b0f9",
   "metadata": {},
   "outputs": [],
   "source": [
    "df.head()"
   ]
  },
  {
   "cell_type": "code",
   "execution_count": null,
   "id": "3f637779",
   "metadata": {},
   "outputs": [],
   "source": [
    "# sample is to get ramdom data \n",
    "# convert to json data\n",
    "# orient is used to format\n",
    "# [0] is for proper json/dict format and to get only 1 record\n",
    "while True:\n",
    "    dict_stock = df.sample(1).to_dict(orient='records')[0]\n",
    "    producer.send('demo_test', value = dict_stock)\n",
    "# to delay the stream data to overcome the overloading of data\n",
    "    sleep(2)"
   ]
  },
  {
   "cell_type": "code",
   "execution_count": null,
   "id": "33aeeac7",
   "metadata": {},
   "outputs": [],
   "source": [
    "producer.flush()"
   ]
  },
  {
   "cell_type": "code",
   "execution_count": null,
   "id": "0ff8b2eb",
   "metadata": {},
   "outputs": [],
   "source": []
  }
 ],
 "metadata": {
  "kernelspec": {
   "display_name": "Python 3 (ipykernel)",
   "language": "python",
   "name": "python3"
  },
  "language_info": {
   "codemirror_mode": {
    "name": "ipython",
    "version": 3
   },
   "file_extension": ".py",
   "mimetype": "text/x-python",
   "name": "python",
   "nbconvert_exporter": "python",
   "pygments_lexer": "ipython3",
   "version": "3.11.3"
  }
 },
 "nbformat": 4,
 "nbformat_minor": 5
}
