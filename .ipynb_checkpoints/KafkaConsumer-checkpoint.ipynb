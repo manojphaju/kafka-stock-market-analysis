{
 "cells": [
  {
   "cell_type": "code",
   "execution_count": null,
   "id": "52618c55",
   "metadata": {},
   "outputs": [],
   "source": []
  },
  {
   "cell_type": "code",
   "execution_count": null,
   "id": "1daf28da",
   "metadata": {},
   "outputs": [],
   "source": [
    "# installing s3fs to store data from consumer to s3 bucket\n",
    "# !pip3 install s3fs"
   ]
  },
  {
   "cell_type": "code",
   "execution_count": null,
   "id": "20442549",
   "metadata": {},
   "outputs": [],
   "source": [
    "import pandas as pd\n",
    "from kafka import KafkaConsumer\n",
    "from time import sleep\n",
    "from json import dumps,loads\n",
    "import json\n",
    "\n",
    "from s3fs import S3FileSystem"
   ]
  },
  {
   "cell_type": "code",
   "execution_count": null,
   "id": "f5068d86",
   "metadata": {},
   "outputs": [],
   "source": [
    "# ip from the ec2 instance\n",
    "consumer = KafkaConsumer('demo_test', \n",
    "                         bootstrap_servers=['52.90.67.34:9092'],\n",
    "                        value_deserializer=lambda x:\n",
    "                        loads(x.decode('utf-8')))"
   ]
  },
  {
   "cell_type": "code",
   "execution_count": null,
   "id": "4bfdcefc",
   "metadata": {},
   "outputs": [],
   "source": [
    "for c in consumer:\n",
    "    print(c.value)"
   ]
  },
  {
   "cell_type": "code",
   "execution_count": null,
   "id": "6da8d924",
   "metadata": {},
   "outputs": [],
   "source": [
    "s3 = S3FileSystem()"
   ]
  },
  {
   "cell_type": "code",
   "execution_count": null,
   "id": "b41f0bbf",
   "metadata": {},
   "outputs": [],
   "source": [
    "# counting and iterating each value from consumer\n",
    "\n",
    "for count, i in enumerate(consumer):\n",
    "    with s3.open(\"s3://kafka-stock-market-manoj/stock_market_{}.json\".format(count)):\n",
    "        json.dump(i.value, file)\n",
    "  # print(count)\n",
    "  # print(i.value)"
   ]
  },
  {
   "cell_type": "code",
   "execution_count": null,
   "id": "4ebb7a73",
   "metadata": {},
   "outputs": [],
   "source": []
  }
 ],
 "metadata": {
  "kernelspec": {
   "display_name": "Python 3 (ipykernel)",
   "language": "python",
   "name": "python3"
  },
  "language_info": {
   "codemirror_mode": {
    "name": "ipython",
    "version": 3
   },
   "file_extension": ".py",
   "mimetype": "text/x-python",
   "name": "python",
   "nbconvert_exporter": "python",
   "pygments_lexer": "ipython3",
   "version": "3.11.3"
  }
 },
 "nbformat": 4,
 "nbformat_minor": 5
}
